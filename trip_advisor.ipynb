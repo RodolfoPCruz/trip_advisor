{
 "cells": [
  {
   "cell_type": "code",
   "execution_count": 50,
   "metadata": {},
   "outputs": [],
   "source": [
    "import numpy as np\n",
    "import pandas as pd\n",
    "import seaborn as sns\n",
    "import matplotlib.pyplot as plt\n",
    "import glob\n"
   ]
  },
  {
   "cell_type": "code",
   "execution_count": 3,
   "metadata": {},
   "outputs": [
    {
     "data": {
      "text/plain": [
       "['../archive/parque_nacional_iguacu.csv',\n",
       " '../archive/parque_chapada_dos_veadeiros.csv',\n",
       " '../archive/museu_imperial.csv',\n",
       " '../archive/mercado-central-fortaleza-ce.csv',\n",
       " '../archive/jardim_botanico.csv',\n",
       " '../archive/aqua-rio-rj.csv',\n",
       " '../archive/mercado-ver-o-peso-pa.csv',\n",
       " '../archive/praia-copacabana-rj.csv',\n",
       " '../archive/elevador_lacerda.csv',\n",
       " '../archive/pelourinho_ba.csv',\n",
       " '../archive/museu_arte_sp.csv',\n",
       " '../archive/praca-3-poderes-br.csv',\n",
       " '../archive/parque_jalapao.csv',\n",
       " '../archive/hopi_hari.csv',\n",
       " '../archive/beto-carreiro-sc.csv']"
      ]
     },
     "execution_count": 3,
     "metadata": {},
     "output_type": "execute_result"
    }
   ],
   "source": [
    "files=glob.glob('../archive/*.csv')\n",
    "files"
   ]
  },
  {
   "cell_type": "code",
   "execution_count": 4,
   "metadata": {},
   "outputs": [],
   "source": [
    "#dados será um dicionário com os comentários e as notas de cada usuário\n",
    "# as chaves do dicionário são os nomes das atrações turísticas\n",
    "\n",
    "dados={}\n",
    "\n",
    "for file in files:\n",
    "    dados[file.split('/')[-1].split('.')[0]]=pd.read_csv(file, delimiter=';')\n",
    "\n"
   ]
  },
  {
   "cell_type": "code",
   "execution_count": 5,
   "metadata": {},
   "outputs": [
    {
     "data": {
      "text/plain": [
       "dict_keys(['parque_nacional_iguacu', 'parque_chapada_dos_veadeiros', 'museu_imperial', 'mercado-central-fortaleza-ce', 'jardim_botanico', 'aqua-rio-rj', 'mercado-ver-o-peso-pa', 'praia-copacabana-rj', 'elevador_lacerda', 'pelourinho_ba', 'museu_arte_sp', 'praca-3-poderes-br', 'parque_jalapao', 'hopi_hari', 'beto-carreiro-sc'])"
      ]
     },
     "execution_count": 5,
     "metadata": {},
     "output_type": "execute_result"
    }
   ],
   "source": [
    "dados.keys()"
   ]
  },
  {
   "cell_type": "code",
   "execution_count": 14,
   "metadata": {},
   "outputs": [],
   "source": [
    "# Análise exploratória"
   ]
  },
  {
   "cell_type": "markdown",
   "metadata": {},
   "source": []
  },
  {
   "cell_type": "code",
   "execution_count": 37,
   "metadata": {},
   "outputs": [],
   "source": [
    "def proporcao_notas(dados):\n",
    "    '''\n",
    "    Funcao recebe como input um dicionário com o conjunto de dados inicial e retorna um dataframe específico\n",
    "    para a atração selecionada contendo o número de avaliações com cada nota e a proporção de cada nota \n",
    "    '''\n",
    "    cont=0\n",
    "    print('Número correpondente a cada atração')\n",
    "    for i in dados.keys():\n",
    "        print(str(cont) +'-' +i )\n",
    "        cont+=1\n",
    "    \n",
    "    \n",
    "    num=None\n",
    "    while num not in np.arange(1,16):\n",
    "        try:\n",
    "            num=input('Selecione a atração (digite o número correpondente a atração desejada ou -1 para sair): ')\n",
    "            num=int(num)\n",
    "            if num not in np.arange(1,16):\n",
    "                raise Exception()\n",
    "        except:\n",
    "            if num==-1:\n",
    "                return None\n",
    "            print('Entrada Inválida. Digite o número da atração desejada ou -1 para sair')\n",
    "    nome_atracao=list(dados.keys())[num]\n",
    "    dados_atracao=dados[nome_atracao]\n",
    "    notas_atracao=dados_atracao.groupby('nota').agg(Número_de_Avaliações=('nota','count'))\n",
    "    notas_atracao['Proporção de Avaliações']=notas_atracao['Número_de_Avaliações']/notas_atracao['Número_de_Avaliações'].sum()\n",
    "    print('')\n",
    "    print('Nome da atração: {}'.format(nome_atracao))\n",
    "    print('Total de avaliações: {}'.format(notas_atracao['Número_de_Avaliações'].sum()))\n",
    "    print(notas_atracao)\n",
    "    return notas_atracao\n",
    "    \n",
    "\n",
    "    \n",
    "                 "
   ]
  },
  {
   "cell_type": "code",
   "execution_count": 39,
   "metadata": {},
   "outputs": [
    {
     "name": "stdout",
     "output_type": "stream",
     "text": [
      "Número correpondente a cada atração\n",
      "0-parque_nacional_iguacu\n",
      "1-parque_chapada_dos_veadeiros\n",
      "2-museu_imperial\n",
      "3-mercado-central-fortaleza-ce\n",
      "4-jardim_botanico\n",
      "5-aqua-rio-rj\n",
      "6-mercado-ver-o-peso-pa\n",
      "7-praia-copacabana-rj\n",
      "8-elevador_lacerda\n",
      "9-pelourinho_ba\n",
      "10-museu_arte_sp\n",
      "11-praca-3-poderes-br\n",
      "12-parque_jalapao\n",
      "13-hopi_hari\n",
      "14-beto-carreiro-sc\n",
      "\n",
      "Nome da atração: museu_arte_sp\n",
      "Total de avaliações: 6041\n",
      "      Número_de_Avaliações  Proporção de Avaliações\n",
      "nota                                               \n",
      "1.0                     25                 0.004138\n",
      "2.0                     65                 0.010760\n",
      "3.0                    365                 0.060420\n",
      "4.0                   1666                 0.275782\n",
      "5.0                   3920                 0.648899\n"
     ]
    }
   ],
   "source": [
    "teste=proporcao_notas(dados)"
   ]
  },
  {
   "cell_type": "code",
   "execution_count": 46,
   "metadata": {},
   "outputs": [],
   "source": [
    "teste.reset_index(inplace=True)"
   ]
  },
  {
   "cell_type": "code",
   "execution_count": 69,
   "metadata": {},
   "outputs": [
    {
     "data": {
      "text/plain": [
       "Text(-0.45, 0.65, 'Número de avaliações: 6041')"
      ]
     },
     "execution_count": 69,
     "metadata": {},
     "output_type": "execute_result"
    },
    {
     "data": {
      "image/png": "[encoded data removed]",
      "text/plain": [
       "<Figure size 640x480 with 1 Axes>"
      ]
     },
     "metadata": {},
     "output_type": "display_data"
    }
   ],
   "source": [
    "ax=sns.barplot(teste,x='nota',y='Proporção de Avaliações')\n",
    "ax.text(-0.45, 0.65, \"Número de avaliações: {}\".format(teste['Número_de_Avaliações'].sum()))"
   ]
  },
  {
   "cell_type": "code",
   "execution_count": 68,
   "metadata": {},
   "outputs": [
    {
     "data": {
      "text/html": [
       "<div>\n",
       "<style scoped>\n",
       "    .dataframe tbody tr th:only-of-type {\n",
       "        vertical-align: middle;\n",
       "    }\n",
       "\n",
       "    .dataframe tbody tr th {\n",
       "        vertical-align: top;\n",
       "    }\n",
       "\n",
       "    .dataframe thead th {\n",
       "        text-align: right;\n",
       "    }\n",
       "</style>\n",
       "<table border=\"1\" class=\"dataframe\">\n",
       "  <thead>\n",
       "    <tr style=\"text-align: right;\">\n",
       "      <th></th>\n",
       "      <th>nota</th>\n",
       "      <th>Número_de_Avaliações</th>\n",
       "      <th>Proporção de Avaliações</th>\n",
       "    </tr>\n",
       "  </thead>\n",
       "  <tbody>\n",
       "    <tr>\n",
       "      <th>0</th>\n",
       "      <td>1.0</td>\n",
       "      <td>25</td>\n",
       "      <td>0.004138</td>\n",
       "    </tr>\n",
       "    <tr>\n",
       "      <th>1</th>\n",
       "      <td>2.0</td>\n",
       "      <td>65</td>\n",
       "      <td>0.010760</td>\n",
       "    </tr>\n",
       "    <tr>\n",
       "      <th>2</th>\n",
       "      <td>3.0</td>\n",
       "      <td>365</td>\n",
       "      <td>0.060420</td>\n",
       "    </tr>\n",
       "    <tr>\n",
       "      <th>3</th>\n",
       "      <td>4.0</td>\n",
       "      <td>1666</td>\n",
       "      <td>0.275782</td>\n",
       "    </tr>\n",
       "    <tr>\n",
       "      <th>4</th>\n",
       "      <td>5.0</td>\n",
       "      <td>3920</td>\n",
       "      <td>0.648899</td>\n",
       "    </tr>\n",
       "  </tbody>\n",
       "</table>\n",
       "</div>"
      ],
      "text/plain": [
       "   nota  Número_de_Avaliações  Proporção de Avaliações\n",
       "0   1.0                    25                 0.004138\n",
       "1   2.0                    65                 0.010760\n",
       "2   3.0                   365                 0.060420\n",
       "3   4.0                  1666                 0.275782\n",
       "4   5.0                  3920                 0.648899"
      ]
     },
     "execution_count": 68,
     "metadata": {},
     "output_type": "execute_result"
    }
   ],
   "source": [
    "teste"
   ]
  },
  {
   "cell_type": "code",
   "execution_count": null,
   "metadata": {},
   "outputs": [],
   "source": []
  }
 ],
 "metadata": {
  "kernelspec": {
   "display_name": "Trabalho",
   "language": "python",
   "name": "python3"
  },
  "language_info": {
   "codemirror_mode": {
    "name": "ipython",
    "version": 3
   },
   "file_extension": ".py",
   "mimetype": "text/x-python",
   "name": "python",
   "nbconvert_exporter": "python",
   "pygments_lexer": "ipython3",
   "version": "3.7.16"
  }
 },
 "nbformat": 4,
 "nbformat_minor": 2
}
