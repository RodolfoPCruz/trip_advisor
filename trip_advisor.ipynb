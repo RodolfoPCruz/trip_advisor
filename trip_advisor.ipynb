{
 "cells": [
  {
   "cell_type": "code",
   "execution_count": 5,
   "metadata": {},
   "outputs": [],
   "source": [
    "import numpy as np\n",
    "import pandas as pd\n",
    "import seaborn as sns\n",
    "import glob\n"
   ]
  },
  {
   "cell_type": "code",
   "execution_count": null,
   "metadata": {},
   "outputs": [],
   "source": [
    "#dados será um dicionário com os comentários e as notas de cada usuário\n",
    "# as chaves do dicionário são os nomes das atrações turísticas\n",
    "\n",
    "dados={}\n",
    "\n",
    "for file in files:\n",
    "    dados[file.split('/')[-1].split('.')[0]]=pd.read_csv(file, delimiter=';')\n",
    "\n"
   ]
  },
  {
   "cell_type": "code",
   "execution_count": 4,
   "metadata": {},
   "outputs": [
    {
     "data": {
      "text/plain": [
       "dict_keys(['parque_chapada_dos_veadeiros', 'mercado-ver-o-peso-pa', 'beto-carreiro-sc', 'pelourinho_ba', 'praia-copacabana-rj', 'museu_imperial', 'praca-3-poderes-br', 'museu_arte_sp', 'jardim_botanico', 'elevador_lacerda', 'aqua-rio-rj', 'parque_jalapao', 'parque_nacional_iguacu', 'mercado-central-fortaleza-ce', 'hopi_hari'])"
      ]
     },
     "execution_count": 4,
     "metadata": {},
     "output_type": "execute_result"
    }
   ],
   "source": [
    "dados.keys()"
   ]
  },
  {
   "cell_type": "code",
   "execution_count": 14,
   "metadata": {},
   "outputs": [],
   "source": [
    "# Análise exploratória"
   ]
  },
  {
   "cell_type": "markdown",
   "metadata": {},
   "source": []
  },
  {
   "cell_type": "code",
   "execution_count": 49,
   "metadata": {},
   "outputs": [],
   "source": [
    "def proporcao_notas(dados):\n",
    "    '''\n",
    "    Funcao recebe como input um dicionário com o conjunto de dados inicial e retorna um dataframe específico\n",
    "    para a atração selecionada contendo o número de avaliações com cada nota e a proporção de cada nota \n",
    "    '''\n",
    "    cont=0\n",
    "    for i in dados.keys():\n",
    "        print(str(cont) +'-' +i )\n",
    "        cont+=1\n",
    "    num=None\n",
    "    while num not in np.arange(1,16):\n",
    "        try:\n",
    "            num=input('Selecione a atração (digite o número correpondente a atração desejada): ')\n",
    "        except:\n",
    "            print('Entrada Inválida. Digite o número da atração desejada ou -1 para sair')\n",
    "            if num==-1:\n",
    "                break\n",
    "            return None\n",
    "    nome_atracao=list(dados.keys())[num]\n",
    "    dados_atracao=dados[nome_atracao]\n",
    "    notas_atracao=dados_atracao.groupby('nota').agg('Número de Avaliações')\n",
    "    notas_atracao['Proporção de Avaliações']=notas_atracao['Número de Avaliações']/notas_atracao['Número de Avaliações'].sum()\n",
    "    print('Total de avaliações: {}'.format(notas_atracao['Número de Avaliações'].sum()))\n",
    "    print(notas_atracao)\n",
    "    return notas_atracao\n",
    "    \n",
    "\n",
    "    \n",
    "                 "
   ]
  },
  {
   "cell_type": "code",
   "execution_count": 48,
   "metadata": {},
   "outputs": [
    {
     "data": {
      "text/plain": [
       "'parque_chapada_dos_veadeiros'"
      ]
     },
     "execution_count": 48,
     "metadata": {},
     "output_type": "execute_result"
    }
   ],
   "source": [
    "list(dados.keys())[0]"
   ]
  },
  {
   "cell_type": "code",
   "execution_count": 39,
   "metadata": {},
   "outputs": [
    {
     "name": "stdout",
     "output_type": "stream",
     "text": [
      "Número de avaliações: 11097\n"
     ]
    },
    {
     "data": {
      "text/html": [
       "<div>\n",
       "<style scoped>\n",
       "    .dataframe tbody tr th:only-of-type {\n",
       "        vertical-align: middle;\n",
       "    }\n",
       "\n",
       "    .dataframe tbody tr th {\n",
       "        vertical-align: top;\n",
       "    }\n",
       "\n",
       "    .dataframe thead th {\n",
       "        text-align: right;\n",
       "    }\n",
       "</style>\n",
       "<table border=\"1\" class=\"dataframe\">\n",
       "  <thead>\n",
       "    <tr style=\"text-align: right;\">\n",
       "      <th></th>\n",
       "      <th>Numero_Notas</th>\n",
       "      <th>Proporção_Notas</th>\n",
       "    </tr>\n",
       "    <tr>\n",
       "      <th>nota</th>\n",
       "      <th></th>\n",
       "      <th></th>\n",
       "    </tr>\n",
       "  </thead>\n",
       "  <tbody>\n",
       "    <tr>\n",
       "      <th>1.0</th>\n",
       "      <td>17</td>\n",
       "      <td>0.001532</td>\n",
       "    </tr>\n",
       "    <tr>\n",
       "      <th>2.0</th>\n",
       "      <td>21</td>\n",
       "      <td>0.001892</td>\n",
       "    </tr>\n",
       "    <tr>\n",
       "      <th>3.0</th>\n",
       "      <td>130</td>\n",
       "      <td>0.011715</td>\n",
       "    </tr>\n",
       "    <tr>\n",
       "      <th>4.0</th>\n",
       "      <td>1408</td>\n",
       "      <td>0.126881</td>\n",
       "    </tr>\n",
       "    <tr>\n",
       "      <th>5.0</th>\n",
       "      <td>9521</td>\n",
       "      <td>0.857980</td>\n",
       "    </tr>\n",
       "  </tbody>\n",
       "</table>\n",
       "</div>"
      ],
      "text/plain": [
       "      Numero_Notas  Proporção_Notas\n",
       "nota                               \n",
       "1.0             17         0.001532\n",
       "2.0             21         0.001892\n",
       "3.0            130         0.011715\n",
       "4.0           1408         0.126881\n",
       "5.0           9521         0.857980"
      ]
     },
     "execution_count": 39,
     "metadata": {},
     "output_type": "execute_result"
    }
   ],
   "source": [
    "x=dados['parque_nacional_iguacu'].groupby('nota').agg(Numero_Notas=('nota','count'))\n",
    "x['Proporção_Notas']=x['Numero_Notas']/x['Numero_Notas'].sum()\n",
    "print('Número de avaliações: {}'.format(x['Numero_Notas'].sum()))\n",
    "x"
   ]
  },
  {
   "cell_type": "code",
   "execution_count": 36,
   "metadata": {},
   "outputs": [
    {
     "data": {
      "text/html": [
       "<div>\n",
       "<style scoped>\n",
       "    .dataframe tbody tr th:only-of-type {\n",
       "        vertical-align: middle;\n",
       "    }\n",
       "\n",
       "    .dataframe tbody tr th {\n",
       "        vertical-align: top;\n",
       "    }\n",
       "\n",
       "    .dataframe thead th {\n",
       "        text-align: right;\n",
       "    }\n",
       "</style>\n",
       "<table border=\"1\" class=\"dataframe\">\n",
       "  <thead>\n",
       "    <tr style=\"text-align: right;\">\n",
       "      <th></th>\n",
       "      <th>Numero_Notas</th>\n",
       "      <th>Proporção_Notas</th>\n",
       "    </tr>\n",
       "    <tr>\n",
       "      <th>nota</th>\n",
       "      <th></th>\n",
       "      <th></th>\n",
       "    </tr>\n",
       "  </thead>\n",
       "  <tbody>\n",
       "    <tr>\n",
       "      <th>1.0</th>\n",
       "      <td>17</td>\n",
       "      <td>0.001532</td>\n",
       "    </tr>\n",
       "    <tr>\n",
       "      <th>2.0</th>\n",
       "      <td>21</td>\n",
       "      <td>0.001892</td>\n",
       "    </tr>\n",
       "    <tr>\n",
       "      <th>3.0</th>\n",
       "      <td>130</td>\n",
       "      <td>0.011715</td>\n",
       "    </tr>\n",
       "    <tr>\n",
       "      <th>4.0</th>\n",
       "      <td>1408</td>\n",
       "      <td>0.126881</td>\n",
       "    </tr>\n",
       "    <tr>\n",
       "      <th>5.0</th>\n",
       "      <td>9521</td>\n",
       "      <td>0.857980</td>\n",
       "    </tr>\n",
       "  </tbody>\n",
       "</table>\n",
       "</div>"
      ],
      "text/plain": [
       "      Numero_Notas  Proporção_Notas\n",
       "nota                               \n",
       "1.0             17         0.001532\n",
       "2.0             21         0.001892\n",
       "3.0            130         0.011715\n",
       "4.0           1408         0.126881\n",
       "5.0           9521         0.857980"
      ]
     },
     "execution_count": 36,
     "metadata": {},
     "output_type": "execute_result"
    }
   ],
   "source": [
    "x"
   ]
  },
  {
   "cell_type": "code",
   "execution_count": 22,
   "metadata": {},
   "outputs": [
    {
     "data": {
      "text/plain": [
       "pandas.core.frame.DataFrame"
      ]
     },
     "execution_count": 22,
     "metadata": {},
     "output_type": "execute_result"
    }
   ],
   "source": [
    "type(x)"
   ]
  },
  {
   "cell_type": "code",
   "execution_count": 26,
   "metadata": {},
   "outputs": [
    {
     "data": {
      "text/plain": [
       "nota\n",
       "1.0    0.001532\n",
       "2.0    0.001892\n",
       "3.0    0.011715\n",
       "4.0    0.126881\n",
       "5.0    0.857980\n",
       "Name: Numero_Comentários, dtype: float64"
      ]
     },
     "execution_count": 26,
     "metadata": {},
     "output_type": "execute_result"
    }
   ],
   "source": [
    "x['Numero_Comentários']/x['Numero_Comentários'].sum()"
   ]
  },
  {
   "cell_type": "code",
   "execution_count": null,
   "metadata": {},
   "outputs": [],
   "source": []
  }
 ],
 "metadata": {
  "kernelspec": {
   "display_name": "Trabalho",
   "language": "python",
   "name": "python3"
  },
  "language_info": {
   "codemirror_mode": {
    "name": "ipython",
    "version": 3
   },
   "file_extension": ".py",
   "mimetype": "text/x-python",
   "name": "python",
   "nbconvert_exporter": "python",
   "pygments_lexer": "ipython3",
   "version": "3.9.18"
  }
 },
 "nbformat": 4,
 "nbformat_minor": 2
}
